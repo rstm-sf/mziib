{
 "cells": [
  {
   "cell_type": "code",
   "execution_count": 1,
   "metadata": {
    "collapsed": true
   },
   "outputs": [],
   "source": [
    "def add_of_GF(a, b, p):\n",
    "    return (a + b) % p"
   ]
  },
  {
   "cell_type": "code",
   "execution_count": 2,
   "metadata": {
    "collapsed": true
   },
   "outputs": [],
   "source": [
    "def mul_of_GF(a, b, p):\n",
    "    return (a * b) % p"
   ]
  },
  {
   "cell_type": "code",
   "execution_count": 3,
   "metadata": {
    "collapsed": true
   },
   "outputs": [],
   "source": [
    "def sub_of_GF(a, b, p):\n",
    "    return add_of_GF(a, -b, p)"
   ]
  },
  {
   "cell_type": "code",
   "execution_count": 4,
   "metadata": {
    "collapsed": true
   },
   "outputs": [],
   "source": [
    "def find_ord_GF(q, p):\n",
    "    if p == 1 or p < q or p % q == 0:\n",
    "        return -1\n",
    "    \n",
    "    t      = q % p\n",
    "    my_ord = 1\n",
    "    \n",
    "    while t != 1:\n",
    "        t = mul_of_GF(t, q, p)\n",
    "        my_ord += 1\n",
    "        \n",
    "    return my_ord"
   ]
  },
  {
   "cell_type": "code",
   "execution_count": 5,
   "metadata": {
    "collapsed": true
   },
   "outputs": [],
   "source": [
    "def task2():\n",
    "    print('Введите числа: q - любое число конечного поля F(p), p - порядок поля.')\n",
    "    \n",
    "    print('p = ', end = '')\n",
    "    p = int(input())\n",
    "    if p < 2:\n",
    "        print('Неверное число!')\n",
    "        \n",
    "    print('q = ', end = '')\n",
    "    q = int(input())\n",
    "    if q < 0:\n",
    "        print('Неверное число!')\n",
    "\n",
    "    print('Порядок числа q конечного поля F(p) равен:', end=' ')\n",
    "    print(find_ord_GF(q, p))"
   ]
  },
  {
   "cell_type": "code",
   "execution_count": 6,
   "metadata": {},
   "outputs": [
    {
     "name": "stdout",
     "output_type": "stream",
     "text": [
      "Введите числа: q - любое число конечного поля F(p), p - порядок поля.\n",
      "p = 7\n",
      "q = 5\n",
      "Порядок числа q конечного поля F(p) равен: 6\n"
     ]
    }
   ],
   "source": [
    "task2()"
   ]
  },
  {
   "cell_type": "code",
   "execution_count": 7,
   "metadata": {
    "collapsed": true
   },
   "outputs": [],
   "source": [
    "def xgcd(a, b):\n",
    "    x0, x1, y0, y1 = 1, 0, 0, 1\n",
    "    \n",
    "    while b != 0:\n",
    "        q, a, b = a // b, b, a % b\n",
    "        x0, x1 = x1, x0 - q * x1\n",
    "        y0, y1 = y1, y0 - q * y1\n",
    "        \n",
    "    return  a, x0, y0"
   ]
  },
  {
   "cell_type": "code",
   "execution_count": 8,
   "metadata": {
    "collapsed": true
   },
   "outputs": [],
   "source": [
    "def mul_inv_of_GF(a, p):\n",
    "    g, x, _ = xgcd(a, p)\n",
    "    if g == 1:\n",
    "        return x % p"
   ]
  },
  {
   "cell_type": "code",
   "execution_count": 9,
   "metadata": {
    "collapsed": true
   },
   "outputs": [],
   "source": [
    "def div_of_GF(a, b, p):\n",
    "    b_inv = mul_inv_of_GF(b, p)\n",
    "    return mul_of_GF(a, b_inv, p)"
   ]
  },
  {
   "cell_type": "code",
   "execution_count": 10,
   "metadata": {},
   "outputs": [
    {
     "data": {
      "text/plain": [
       "2"
      ]
     },
     "execution_count": 10,
     "metadata": {},
     "output_type": "execute_result"
    }
   ],
   "source": [
    "div_of_GF(5, 6, 7)"
   ]
  }
 ],
 "metadata": {
  "kernelspec": {
   "display_name": "Python 3",
   "language": "python",
   "name": "python3"
  },
  "language_info": {
   "codemirror_mode": {
    "name": "ipython",
    "version": 3
   },
   "file_extension": ".py",
   "mimetype": "text/x-python",
   "name": "python",
   "nbconvert_exporter": "python",
   "pygments_lexer": "ipython3",
   "version": "3.6.2"
  }
 },
 "nbformat": 4,
 "nbformat_minor": 2
}
